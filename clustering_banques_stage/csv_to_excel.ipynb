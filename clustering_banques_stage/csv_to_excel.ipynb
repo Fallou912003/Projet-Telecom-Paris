{
 "cells": [
  {
   "cell_type": "code",
   "execution_count": 3,
   "metadata": {},
   "outputs": [
    {
     "name": "stdout",
     "output_type": "stream",
     "text": [
      "✅ Le fichier Excel a été créé : resultats_kmeans_clusters.xlsx\n"
     ]
    }
   ],
   "source": [
    "import pandas as pd\n",
    "\n",
    "# Nom du fichier CSV à convertir\n",
    "csv_file = \"resultats_kmeans_clusters.csv\"\n",
    "\n",
    "# Nom du fichier Excel de sortie\n",
    "excel_file = \"resultats_kmeans_clusters.xlsx\"\n",
    "\n",
    "# Charger le CSV\n",
    "df = pd.read_csv(csv_file)\n",
    "\n",
    "# Sauvegarder au format Excel\n",
    "df.to_excel(excel_file, index=False)\n",
    "\n",
    "print(f\"✅ Le fichier Excel a été créé : {excel_file}\")\n"
   ]
  },
  {
   "cell_type": "code",
   "execution_count": 5,
   "metadata": {},
   "outputs": [
    {
     "name": "stdout",
     "output_type": "stream",
     "text": [
      "✅ Le fichier Excel a été créé : resultats_clusters_quantiles.xlsx\n"
     ]
    }
   ],
   "source": [
    "import pandas as pd\n",
    "\n",
    "# Nom du fichier CSV à convertir\n",
    "csv_file = \"resultats_clusters_quantiles.csv\"\n",
    "\n",
    "# Nom du fichier Excel de sortie\n",
    "excel_file = \"resultats_clusters_quantiles.xlsx\"\n",
    "\n",
    "# Charger le CSV\n",
    "df = pd.read_csv(csv_file)\n",
    "\n",
    "# Sauvegarder au format Excel\n",
    "df.to_excel(excel_file, index=False)\n",
    "\n",
    "print(f\"✅ Le fichier Excel a été créé : {excel_file}\")\n"
   ]
  },
  {
   "cell_type": "code",
   "execution_count": 7,
   "metadata": {},
   "outputs": [
    {
     "name": "stdout",
     "output_type": "stream",
     "text": [
      "✅ Fichier transformé et sauvegardé : base_clients_pour_clustering.csv\n"
     ]
    }
   ],
   "source": [
    "import pandas as pd\n",
    "from datetime import datetime\n",
    "\n",
    "# ------------------------\n",
    "# 1. Charger le fichier\n",
    "# ------------------------\n",
    "df = pd.read_excel(\"test.xlsx\")  # adapte le nom du fichier\n",
    "\n",
    "# Harmoniser les colonnes\n",
    "df.rename(columns={\n",
    "    \"N° Societaire\": \"societaire\",\n",
    "    \"Montant\": \"montant\",\n",
    "    \"Créée le\": \"date_transaction\"\n",
    "}, inplace=True)\n",
    "\n",
    "# Convertir les dates\n",
    "df[\"date_transaction\"] = pd.to_datetime(df[\"date_transaction\"], errors=\"coerce\")\n",
    "\n",
    "# ------------------------\n",
    "# 2. Agrégation par sociétaire\n",
    "# ------------------------\n",
    "# Date de référence = aujourd'hui\n",
    "today = pd.Timestamp.today().normalize()\n",
    "\n",
    "agg = df.groupby(\"societaire\").agg(\n",
    "    montant_moyen=(\"montant\", \"mean\"),\n",
    "    nb_transactions_mois=(\"montant\", \"count\"),\n",
    "    dernière_transaction=(\"date_transaction\", \"max\")\n",
    ").reset_index()\n",
    "\n",
    "# Calcul de la récence en jours\n",
    "agg[\"dernière_transaction_jour\"] = (today - agg[\"dernière_transaction\"]).dt.days\n",
    "\n",
    "# ------------------------\n",
    "# 3. Sauvegarde\n",
    "# ------------------------\n",
    "agg.to_csv(\"base_clients_pour_clustering.csv\", index=False, encoding=\"utf-8\")\n",
    "\n",
    "print(\"✅ Fichier transformé et sauvegardé : base_clients_pour_clustering.csv\")\n"
   ]
  },
  {
   "cell_type": "code",
   "execution_count": 9,
   "metadata": {},
   "outputs": [
    {
     "name": "stdout",
     "output_type": "stream",
     "text": [
      "✅ Fichier correctement formaté : bases_reelles_fin.csv\n"
     ]
    }
   ],
   "source": [
    "import pandas as pd\n",
    "\n",
    "# Charger ton fichier CSV actuel (séparé par des virgules)\n",
    "df = pd.read_csv(\"bases_reelles.csv\")\n",
    "\n",
    "# Renommer la colonne pour cohérence\n",
    "df.rename(columns={\"societaire\": \"client_id\"}, inplace=True)\n",
    "\n",
    "# Forcer montant_moyen en entier\n",
    "df[\"montant_moyen\"] = df[\"montant_moyen\"].round(0).astype(int)\n",
    "\n",
    "# Reformater la date\n",
    "df[\"dernière_transaction\"] = pd.to_datetime(df[\"dernière_transaction\"], errors=\"coerce\")\n",
    "df[\"dernière_transaction\"] = df[\"dernière_transaction\"].dt.strftime(\"%d/%m/%Y\")\n",
    "\n",
    "# Réorganiser les colonnes dans le bon ordre\n",
    "df = df[[\"client_id\", \"montant_moyen\", \"dernière_transaction\", \"nb_transactions_mois\", \"dernière_transaction_jour\"]]\n",
    "\n",
    "# Sauvegarde avec séparateur \";\"\n",
    "output_file = \"bases_reelles_fin.csv\"\n",
    "df.to_csv(output_file, sep=\";\", index=False, encoding=\"utf-8\")\n",
    "\n",
    "print(f\"✅ Fichier correctement formaté : {output_file}\")\n"
   ]
  },
  {
   "cell_type": "code",
   "execution_count": 13,
   "metadata": {},
   "outputs": [
    {
     "name": "stdout",
     "output_type": "stream",
     "text": [
      "✅ Le fichier Excel a été créé : resultats_bases_reelles_fin_bis.xlsx\n"
     ]
    }
   ],
   "source": [
    "import pandas as pd\n",
    "\n",
    "csv_file = \"resultats_bases_reelles_fin_bis.csv\"\n",
    "excel_file = \"resultats_bases_reelles_fin_bis.xlsx\"\n",
    "\n",
    "# Essayer avec le bon séparateur et ignorer les lignes mal formées\n",
    "df = pd.read_csv(csv_file, sep=';', on_bad_lines='skip')\n",
    "\n",
    "# Sauvegarder au format Excel\n",
    "df.to_excel(excel_file, index=False)\n",
    "\n",
    "print(f\"✅ Le fichier Excel a été créé : {excel_file}\")\n",
    "\n"
   ]
  },
  {
   "cell_type": "code",
   "execution_count": null,
   "metadata": {},
   "outputs": [],
   "source": []
  }
 ],
 "metadata": {
  "kernelspec": {
   "display_name": "base",
   "language": "python",
   "name": "python3"
  },
  "language_info": {
   "codemirror_mode": {
    "name": "ipython",
    "version": 3
   },
   "file_extension": ".py",
   "mimetype": "text/x-python",
   "name": "python",
   "nbconvert_exporter": "python",
   "pygments_lexer": "ipython3",
   "version": "3.11.5"
  }
 },
 "nbformat": 4,
 "nbformat_minor": 2
}
